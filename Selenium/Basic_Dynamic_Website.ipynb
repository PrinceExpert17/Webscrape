{
 "cells": [
  {
   "cell_type": "markdown",
   "id": "c6bdc82e",
   "metadata": {},
   "source": [
    "# Overview\n",
    "- We will be creating a simple dynammic website to get the basics of how selenium works\n",
    "- Libraries: selenium, pandas, time, webdriver_manager\n",
    "- [Reference](https://www.youtube.com/watch?v=pUUhvJvs-R4&list=PLRzwgpycm-FgQ9lP_JTfrCa9O573XiJph&index=1&ab_channel=JohnWatsonRooney)"
   ]
  },
  {
   "cell_type": "code",
   "execution_count": 1,
   "id": "f1f1ea0b",
   "metadata": {},
   "outputs": [],
   "source": [
    "from selenium import webdriver\n",
    "from webdriver_manager.chrome import ChromeDriverManager\n",
    "from selenium.webdriver.common.keys import Keys\n",
    "from selenium.webdriver.support.ui import WebDriverWait\n",
    "import pandas as pd\n",
    "import time"
   ]
  },
  {
   "cell_type": "markdown",
   "id": "be8ca8af",
   "metadata": {},
   "source": [
    "# First Website\n",
    "## Simple login\n",
    "- Let's find the login page"
   ]
  },
  {
   "cell_type": "code",
   "execution_count": 3,
   "id": "3ea11600",
   "metadata": {},
   "outputs": [
    {
     "name": "stderr",
     "output_type": "stream",
     "text": [
      "\n",
      "\n",
      "====== WebDriver manager ======\n",
      "Current google-chrome version is 92.0.4515\n",
      "Get LATEST driver version for 92.0.4515\n",
      "Driver [C:\\Users\\kyled\\.wdm\\drivers\\chromedriver\\win32\\92.0.4515.107\\chromedriver.exe] found in cache\n"
     ]
    }
   ],
   "source": [
    "driver = webdriver.Chrome(ChromeDriverManager().install())\n",
    "driver.get('https://the-internet.herokuapp.com/login')"
   ]
  },
  {
   "cell_type": "code",
   "execution_count": 4,
   "id": "c09b3e08",
   "metadata": {},
   "outputs": [],
   "source": [
    "# Get the username box: //*[@id=\"username\"]\n",
    "# Get the password box: //*[@id=\"password\"]\n",
    "# Get the login button: //*[@id=\"login\"]/button/i"
   ]
  },
  {
   "cell_type": "code",
   "execution_count": 5,
   "id": "59d8b3b1",
   "metadata": {},
   "outputs": [],
   "source": [
    "driver.find_element_by_xpath('//*[@id=\"username\"]').send_keys('tomsmith')\n",
    "time.sleep(1.5)\n",
    "driver.find_element_by_xpath('//*[@id=\"password\"]').send_keys('SuperSecretPassword!')\n",
    "time.sleep(1.5)\n",
    "driver.find_element_by_xpath('//*[@id=\"login\"]/button/i').click()\n",
    "time.sleep(1.5)\n",
    "driver.find_element_by_xpath('//*[@id=\"content\"]/div/a/i').click()"
   ]
  },
  {
   "cell_type": "markdown",
   "id": "be6d637b",
   "metadata": {},
   "source": [
    "# Second Website\n",
    "## Let's get more advanced"
   ]
  },
  {
   "cell_type": "code",
   "execution_count": 7,
   "id": "0117e5f2",
   "metadata": {},
   "outputs": [
    {
     "name": "stderr",
     "output_type": "stream",
     "text": [
      "\n",
      "\n",
      "====== WebDriver manager ======\n",
      "Current google-chrome version is 92.0.4515\n",
      "Get LATEST driver version for 92.0.4515\n",
      "Driver [C:\\Users\\kyled\\.wdm\\drivers\\chromedriver\\win32\\92.0.4515.107\\chromedriver.exe] found in cache\n"
     ]
    }
   ],
   "source": [
    "driver = webdriver.Chrome(ChromeDriverManager().install())\n",
    "driver.get('https://the-internet.herokuapp.com/dynamic_loading/2')"
   ]
  },
  {
   "cell_type": "code",
   "execution_count": 8,
   "id": "3f6b7599",
   "metadata": {},
   "outputs": [
    {
     "name": "stdout",
     "output_type": "stream",
     "text": [
      "Example 2: Element rendered after the fact: \n",
      "Hello World!\n"
     ]
    }
   ],
   "source": [
    "def getHello():\n",
    "    driver.find_element_by_xpath('//*[@id=\"start\"]/button').click() #//*[@id=\"start\"]/button\n",
    "    driver.implicitly_wait(10)\n",
    "    content = driver.find_element_by_xpath('//*[@id=\"content\"]/div/h4').text\n",
    "    text = driver.find_element_by_xpath('//*[@id=\"finish\"]/h4').text\n",
    "    return print(f'{content}: \\n{text}')\n",
    "getHello()"
   ]
  },
  {
   "cell_type": "code",
   "execution_count": null,
   "id": "1fb5b816",
   "metadata": {},
   "outputs": [],
   "source": []
  }
 ],
 "metadata": {
  "kernelspec": {
   "display_name": "Python 3",
   "language": "python",
   "name": "python3"
  },
  "language_info": {
   "codemirror_mode": {
    "name": "ipython",
    "version": 3
   },
   "file_extension": ".py",
   "mimetype": "text/x-python",
   "name": "python",
   "nbconvert_exporter": "python",
   "pygments_lexer": "ipython3",
   "version": "3.8.11"
  },
  "toc": {
   "base_numbering": 1,
   "nav_menu": {},
   "number_sections": true,
   "sideBar": true,
   "skip_h1_title": false,
   "title_cell": "Table of Contents",
   "title_sidebar": "Contents",
   "toc_cell": false,
   "toc_position": {},
   "toc_section_display": true,
   "toc_window_display": false
  }
 },
 "nbformat": 4,
 "nbformat_minor": 5
}
